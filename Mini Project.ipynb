{
 "cells": [
  {
   "cell_type": "code",
   "execution_count": 1,
   "metadata": {},
   "outputs": [],
   "source": [
    "%matplotlib inline\n",
    "import numpy as np\n",
    "import pandas as pd\n",
    "import seaborn as sns\n",
    "import matplotlib.pyplot as plt\n",
    "from sklearn.metrics import accuracy_score\n",
    "from sklearn.ensemble import RandomForestClassifier as rfc\n",
    "from sklearn.metrics import confusion_matrix\n",
    "from sklearn import svm\n",
    "from sklearn.svm import SVC"
   ]
  },
  {
   "cell_type": "code",
   "execution_count": 2,
   "metadata": {},
   "outputs": [],
   "source": [
    "data = pd.read_csv('C:/Users/pc/Desktop/Mini Project/Mini Project/DataSet_HAR.csv', delimiter=',')"
   ]
  },
  {
   "cell_type": "code",
   "execution_count": 3,
   "metadata": {},
   "outputs": [],
   "source": [
    "random = 0 \n",
    "tree_nodes = 20"
   ]
  },
  {
   "cell_type": "markdown",
   "metadata": {},
   "source": [
    "Random Forest with All Features"
   ]
  },
  {
   "cell_type": "code",
   "execution_count": 4,
   "metadata": {
    "scrolled": true
   },
   "outputs": [],
   "source": [
    "train = data.sample(frac = 0.7,random_state = random)\n",
    "test = data[~data.index.isin(train.index)]\n",
    "#data.columns\n"
   ]
  },
  {
   "cell_type": "code",
   "execution_count": 5,
   "metadata": {},
   "outputs": [
    {
     "data": {
      "text/plain": [
       "0.95880149812734083"
      ]
     },
     "execution_count": 5,
     "metadata": {},
     "output_type": "execute_result"
    }
   ],
   "source": [
    "X = train[train.columns[:-2]]\n",
    "Y = train.Activity\n",
    "\n",
    "ranFor = rfc(n_estimators=tree_nodes, random_state=random, n_jobs=4,\n",
    "             warm_start=True, oob_score=True)\n",
    "\n",
    "ranFor = ranFor.fit(X, Y)\n",
    "ranFor.oob_score_"
   ]
  },
  {
   "cell_type": "markdown",
   "metadata": {},
   "source": [
    "Random Forest w/ Selected Top Variables"
   ]
  },
  {
   "cell_type": "code",
   "execution_count": 6,
   "metadata": {},
   "outputs": [
    {
     "name": "stdout",
     "output_type": "stream",
     "text": [
      "                                Feature  Importance\n",
      "558                angle(X,gravityMean)    0.048610\n",
      "56               tGravityAcc-energy()-X    0.037963\n",
      "41                 tGravityAcc-mean()-Y    0.027129\n",
      "559                angle(Y,gravityMean)    0.026012\n",
      "53                  tGravityAcc-min()-Y    0.024632\n",
      "52                  tGravityAcc-min()-X    0.023658\n",
      "381      fBodyAccJerk-bandsEnergy()-1,8    0.020617\n",
      "99                 tBodyAccJerk-iqr()-X    0.020448\n",
      "344               fBodyAccJerk-mean()-X    0.020240\n",
      "231               tBodyAccJerkMag-sma()    0.020213\n",
      "54                  tGravityAcc-min()-Z    0.018707\n",
      "560                angle(Z,gravityMean)    0.012831\n",
      "9                      tBodyAcc-max()-X    0.012524\n",
      "345               fBodyAccJerk-mean()-Y    0.012000\n",
      "40                 tGravityAcc-mean()-X    0.011823\n",
      "50                  tGravityAcc-max()-Y    0.011432\n",
      "75            tGravityAcc-arCoeff()-Z,3    0.011106\n",
      "503                   fBodyAccMag-std()    0.010983\n",
      "348                fBodyAccJerk-std()-Y    0.010681\n",
      "389     fBodyAccJerk-bandsEnergy()-1,16    0.010477\n",
      "233               tBodyAccJerkMag-iqr()    0.010350\n",
      "234           tBodyAccJerkMag-entropy()    0.010220\n",
      "57               tGravityAcc-energy()-Y    0.010218\n",
      "350                fBodyAccJerk-mad()-X    0.010177\n",
      "364                fBodyAccJerk-iqr()-Y    0.010162\n",
      "366            fBodyAccJerk-entropy()-X    0.010151\n",
      "359                  fBodyAccJerk-sma()    0.010122\n",
      "396   fBodyAccJerk-bandsEnergy()-9,16.1    0.010080\n",
      "83                 tBodyAccJerk-std()-X    0.010032\n",
      "296               fBodyAcc-skewness()-X    0.010028\n",
      "..                                  ...         ...\n",
      "524         fBodyBodyAccJerkMag-maxInds    0.000086\n",
      "554         angle(tBodyAccMean,gravity)    0.000083\n",
      "114          tBodyAccJerk-arCoeff()-Z,2    0.000083\n",
      "543          fBodyBodyGyroJerkMag-mad()    0.000081\n",
      "191         tBodyGyroJerk-arCoeff()-Y,3    0.000081\n",
      "480     fBodyGyro-bandsEnergy()-49,56.1    0.000080\n",
      "153             tBodyGyro-arCoeff()-Z,1    0.000078\n",
      "278                    fBodyAcc-min()-Y    0.000076\n",
      "391    fBodyAccJerk-bandsEnergy()-33,48    0.000075\n",
      "341      fBodyAcc-bandsEnergy()-49,64.2    0.000074\n",
      "32               tBodyAcc-arCoeff()-Y,4    0.000073\n",
      "35               tBodyAcc-arCoeff()-Z,3    0.000070\n",
      "151             tBodyGyro-arCoeff()-Y,3    0.000068\n",
      "535              fBodyBodyGyroMag-iqr()    0.000067\n",
      "435                   fBodyGyro-min()-X    0.000067\n",
      "7                      tBodyAcc-mad()-Y    0.000064\n",
      "519           fBodyBodyAccJerkMag-min()    0.000063\n",
      "471       fBodyGyro-bandsEnergy()-49,64    0.000062\n",
      "337      fBodyAcc-bandsEnergy()-57,64.2    0.000061\n",
      "219             tGravityAccMag-energy()    0.000061\n",
      "174               tBodyGyroJerk-min()-Z    0.000061\n",
      "546          fBodyBodyGyroJerkMag-sma()    0.000055\n",
      "401  fBodyAccJerk-bandsEnergy()-49,56.1    0.000055\n",
      "95                   tBodyAccJerk-sma()    0.000052\n",
      "380           fBodyAccJerk-kurtosis()-Z    0.000044\n",
      "485     fBodyGyro-bandsEnergy()-49,64.1    0.000035\n",
      "315        fBodyAcc-bandsEnergy()-25,48    0.000033\n",
      "511                 fBodyAccMag-maxInds    0.000030\n",
      "292                  fBodyAcc-maxInds-Z    0.000025\n",
      "313        fBodyAcc-bandsEnergy()-49,64    0.000019\n",
      "\n",
      "[561 rows x 2 columns]\n"
     ]
    }
   ],
   "source": [
    "ranForFeature = pd.DataFrame({'Feature':X.columns,'Importance':ranFor.feature_importances_})\n",
    "\n",
    "ranForFeature.sort_values(by = 'Importance',ascending=False,inplace=True)\n",
    "print(ranForFeature)\n"
   ]
  },
  {
   "cell_type": "code",
   "execution_count": 7,
   "metadata": {},
   "outputs": [],
   "source": [
    "n = 15\n",
    "#n = 6\n",
    "#n = 7\n",
    "ranFor_model = [col for col in ranForFeature.Feature[:n].values]"
   ]
  },
  {
   "cell_type": "code",
   "execution_count": 8,
   "metadata": {
    "scrolled": true
   },
   "outputs": [
    {
     "name": "stdout",
     "output_type": "stream",
     "text": [
      "    # of Features  oob Score  Accuracy\n",
      "1             1.0   0.406298  0.978083\n",
      "2             2.0   0.581495  0.993619\n",
      "3             3.0   0.752948  0.996671\n",
      "4             4.0   0.756970  0.995977\n",
      "5             5.0   0.779720  0.997642\n",
      "6             6.0   0.828270  0.998890\n",
      "7             7.0   0.909557  0.998335\n",
      "8             8.0   0.917742  0.998197\n",
      "9             9.0   0.913580  0.998058\n",
      "10           10.0   0.925094  0.999168\n",
      "11           11.0   0.942156  0.999306\n",
      "12           12.0   0.945485  0.999584\n",
      "13           13.0   0.950201  0.999723\n",
      "14           14.0   0.949091  0.999445\n",
      "15           15.0   0.953253  0.999306\n"
     ]
    }
   ],
   "source": [
    "score = {}\n",
    "\n",
    "for cols in range(n):\n",
    "    X = train[[col for col in ranForFeature['Feature'][:cols+1].values]]\n",
    "    Y = train.Activity\n",
    "    \n",
    "    select_feature = rfc(n_estimators=tree_nodes, random_state=random, n_jobs=4,\n",
    "                 warm_start=False, oob_score=True)\n",
    "    \n",
    "    select_feature = select_feature.fit(X, Y)\n",
    "    accuracy = accuracy_score(Y,select_feature.predict(X))\n",
    "    \n",
    "    score[cols+1] = [cols+1,select_feature.oob_score_,accuracy]\n",
    "\n",
    "select_tab =pd.DataFrame.from_dict(score).transpose()\n",
    "select_tab.columns = ['# of Features','oob Score','Accuracy']\n",
    "print(select_tab)"
   ]
  },
  {
   "cell_type": "code",
   "execution_count": 9,
   "metadata": {},
   "outputs": [
    {
     "data": {
      "text/plain": [
       "array([[1353,    0,    0,    0,    0,    0],\n",
       "       [   0, 1238,    1,    0,    0,    0],\n",
       "       [   0,    0, 1357,    0,    0,    0],\n",
       "       [   0,    0,    0, 1205,    1,    0],\n",
       "       [   0,    0,    0,    0,  980,    3],\n",
       "       [   0,    0,    0,    0,    0, 1071]], dtype=int64)"
      ]
     },
     "execution_count": 9,
     "metadata": {},
     "output_type": "execute_result"
    }
   ],
   "source": [
    "final_train = Y\n",
    "predict = select_feature.predict(X)\n",
    "\n",
    "confusion_matrix(final_train,predict)"
   ]
  },
  {
   "cell_type": "code",
   "execution_count": 10,
   "metadata": {},
   "outputs": [
    {
     "data": {
      "text/plain": [
       "<matplotlib.axes._subplots.AxesSubplot at 0x9bdfe50>"
      ]
     },
     "execution_count": 10,
     "metadata": {},
     "output_type": "execute_result"
    },
    {
     "data": {
      "image/png": "[encoded data removed]",
      "text/plain": [
       "<matplotlib.figure.Figure at 0x9bdfd90>"
      ]
     },
     "metadata": {},
     "output_type": "display_data"
    }
   ],
   "source": [
    "sns.heatmap(data=confusion_matrix(final_train,predict), fmt='.0f', annot=True,\n",
    "            xticklabels=np.unique(final_train), yticklabels=np.unique(final_train))"
   ]
  },
  {
   "cell_type": "markdown",
   "metadata": {},
   "source": [
    "Support Vector Machine"
   ]
  },
  {
   "cell_type": "code",
   "execution_count": 11,
   "metadata": {},
   "outputs": [],
   "source": [
    "X = train[train.columns[:-2]]\n",
    "Y = train.Activity\n",
    "random = 0\n",
    "tree_node = 20\n",
    "\n",
    "svm = rfc(n_estimators=tree_nodes, random_state=random, n_jobs=4,\n",
    "             warm_start=True, oob_score=True)\n",
    "svm=svm.fit(X, Y)\n",
    "\n",
    "svm_model = pd.DataFrame({'Feature':X.columns,'Importance':svm.feature_importances_})\n",
    "svm_model.sort_values(by='Importance', ascending=False, inplace=True)\n",
    "\n",
    "nodes = 4\n",
    "svm_model = [col for col in svm_model.Feature[:nodes].values] + [svm_model.Feature[6]]"
   ]
  },
  {
   "cell_type": "code",
   "execution_count": 12,
   "metadata": {},
   "outputs": [],
   "source": [
    "X = train[svm_model]\n",
    "Y = train.Activity\n",
    "\n",
    "X_test = test[X.columns]\n",
    "Y_test = test.Activity"
   ]
  },
  {
   "cell_type": "code",
   "execution_count": 13,
   "metadata": {},
   "outputs": [
    {
     "name": "stdout",
     "output_type": "stream",
     "text": [
      "SVM Accuracy: Training 0.8057 Testing 0.8110\n"
     ]
    }
   ],
   "source": [
    "svm1 = SVC()\n",
    "svm1_model = svm1.fit(X,Y)\n",
    "\n",
    "predY_train = svm1_model.predict(X)\n",
    "predY_test = svm1_model.predict(X_test)\n",
    "\n",
    "accuracy_train = accuracy_score(Y,predY_train)\n",
    "accuracy_test = accuracy_score(Y_test, predY_test)\n",
    "\n",
    "print('SVM Accuracy: Training %.4f Testing %.4f' % (accuracy_train,accuracy_test))"
   ]
  },
  {
   "cell_type": "code",
   "execution_count": 14,
   "metadata": {},
   "outputs": [
    {
     "data": {
      "text/plain": [
       "array([[1353,    0,    0,    0,    0,    0],\n",
       "       [   7, 1018,  212,    2,    0,    0],\n",
       "       [   0,  171, 1186,    0,    0,    0],\n",
       "       [   0,    0,    0,  935,  110,  161],\n",
       "       [   0,    0,    0,  201,  713,   69],\n",
       "       [   0,    0,    0,  387,   81,  603]], dtype=int64)"
      ]
     },
     "execution_count": 14,
     "metadata": {},
     "output_type": "execute_result"
    }
   ],
   "source": [
    "confusion_matrix(Y,predY_train)"
   ]
  },
  {
   "cell_type": "code",
   "execution_count": 15,
   "metadata": {},
   "outputs": [
    {
     "data": {
      "text/plain": [
       "<matplotlib.axes._subplots.AxesSubplot at 0x124aaa50>"
      ]
     },
     "execution_count": 15,
     "metadata": {},
     "output_type": "execute_result"
    },
    {
     "data": {
      "image/png": "[encoded data removed]",
      "text/plain": [
       "<matplotlib.figure.Figure at 0x9bdf5b0>"
      ]
     },
     "metadata": {},
     "output_type": "display_data"
    }
   ],
   "source": [
    "sns.heatmap(data=confusion_matrix(Y_test,predY_test), fmt='.0f', annot=True,\n",
    "            xticklabels=np.unique(Y_test), yticklabels=np.unique(Y_test))"
   ]
  },
  {
   "cell_type": "code",
   "execution_count": null,
   "metadata": {},
   "outputs": [],
   "source": []
  }
 ],
 "metadata": {
  "kernelspec": {
   "display_name": "Python 3",
   "language": "python",
   "name": "python3"
  },
  "language_info": {
   "codemirror_mode": {
    "name": "ipython",
    "version": 3
   },
   "file_extension": ".py",
   "mimetype": "text/x-python",
   "name": "python",
   "nbconvert_exporter": "python",
   "pygments_lexer": "ipython3",
   "version": "3.7.1"
  }
 },
 "nbformat": 4,
 "nbformat_minor": 2
}
